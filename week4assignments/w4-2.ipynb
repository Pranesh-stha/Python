{
 "cells": [
  {
   "cell_type": "code",
   "execution_count": null,
   "metadata": {},
   "outputs": [
    {
     "name": "stdout",
     "output_type": "stream",
     "text": [
      "Sum of odd numbers: 25\n"
     ]
    }
   ],
   "source": [
    "#write a function in python that takes lists as an argument and uses a lambda function to filterout all the even numbers from given list and then finds the sum of the remaining numbers using loop\n",
    "\n",
    "def sum_of_odd_numbers(num):\n",
    "    odd_numbers = list(filter(lambda x: x % 2 != 0, num))\n",
    "    \n",
    "    total_sum = 0\n",
    "    for num in odd_numbers:\n",
    "        total_sum += num\n",
    "    \n",
    "    return total_sum\n",
    "\n",
    "list1 = [1, 2, 3, 4, 5, 6, 7, 8, 9, 10]\n",
    "result = sum_of_odd_numbers(list1)\n",
    "print(\"Sum of odd numbers:\", result)"
   ]
  },
  {
   "cell_type": "code",
   "execution_count": 17,
   "metadata": {},
   "outputs": [
    {
     "name": "stdout",
     "output_type": "stream",
     "text": [
      "The number of words in the file is: 4\n"
     ]
    }
   ],
   "source": [
    "word_count = 0\n",
    "\n",
    "with open(\"file.txt\", \"r\") as file:\n",
    "    for i in file:\n",
    "        words = i.split()\n",
    "        word_count += len(words)\n",
    "file.close()\n",
    "\n",
    "print(f\"The number of words in the file is: {word_count}\")"
   ]
  },
  {
   "cell_type": "code",
   "execution_count": 15,
   "metadata": {},
   "outputs": [
    {
     "name": "stdout",
     "output_type": "stream",
     "text": [
      "I am Pranesh\n",
      "Content successfully written to 'file.txt'.\n"
     ]
    }
   ],
   "source": [
    "#Write a Python function read_file_content(file_path) that takes the path of a text file as input and returns its content as a string.Write another function write_to_file(file_path, content) that takes a file path and a string content as input and writes the content to the file\n",
    "\n",
    "file_path = \"file.txt\"\n",
    "content = \"I am Pranesh\"\n",
    "def read_file_content(file_path):\n",
    "    with open(file_path, 'r') as file:\n",
    "        return file.read()\n",
    "    file.close()\n",
    "\n",
    "def write_to_file(file_path, content):\n",
    "    with open(file_path, 'w') as file:\n",
    "        file.write(content)\n",
    "    print(f\"Content successfully written to '{file_path}'.\")\n",
    "    file.close()\n",
    "\n",
    "print(read_file_content(file_path))\n",
    "\n",
    "\n",
    "write_to_file(file_path, content)\n"
   ]
  },
  {
   "cell_type": "code",
   "execution_count": 14,
   "metadata": {},
   "outputs": [
    {
     "data": {
      "text/plain": [
       "'Pranesh'"
      ]
     },
     "execution_count": 14,
     "metadata": {},
     "output_type": "execute_result"
    }
   ],
   "source": [
    "#Write a function find_longest_word(file_path) that reads a text file and returns the longest word in the file.\n",
    "file_path = \"file.txt\"\n",
    "\n",
    "def find_longest_word(file_path):\n",
    "    with open(file_path, 'r') as file:\n",
    "        words = file.read().split()\n",
    "        file.close()\n",
    "    longest_word = \"\"\n",
    "    for word in words:\n",
    "        if len(word) > len(longest_word):\n",
    "            longest_word = word\n",
    "\n",
    "    return longest_word\n",
    "\n",
    "find_longest_word(file_path)\n"
   ]
  },
  {
   "cell_type": "code",
   "execution_count": null,
   "metadata": {},
   "outputs": [
    {
     "data": {
      "text/plain": [
       "False"
      ]
     },
     "execution_count": 16,
     "metadata": {},
     "output_type": "execute_result"
    }
   ],
   "source": [
    "#Write a function check_file_empty(file_path) that takes a file path as input and returns True if the file is empty, and False otherwise.\n",
    "file_path = \"file.txt\"\n",
    "\n",
    "def check_file_empty(file_path):\n",
    "    with open(file_path, 'r') as file:\n",
    "        return file.read() == \"\"\n",
    "    file.close()\n",
    "\n",
    "check_file_empty(file_path)\n"
   ]
  },
  {
   "cell_type": "code",
   "execution_count": 17,
   "metadata": {},
   "outputs": [],
   "source": [
    "#Write a function reverse_file_content(file_path) that reads a text file and writes its content in reverse order to a new file named reversed.txt.\n",
    "file_path = \"file.txt\"\n",
    "\n",
    "def reverse_file_content(file_path):\n",
    "    \"\"\"Reads a file and writes its content in reverse order to 'reversed.txt'.\"\"\"\n",
    "    with open(file_path, 'r') as file:\n",
    "        content = file.read()\n",
    "    file.close()\n",
    "\n",
    "    reversed_content = content[::-1]\n",
    "    \n",
    "    with open(\"reversed.txt\", 'w') as file:\n",
    "        file.write(reversed_content)\n",
    "    file.close()\n",
    "\n",
    "reverse_file_content(file_path)\n"
   ]
  },
  {
   "cell_type": "code",
   "execution_count": 18,
   "metadata": {},
   "outputs": [
    {
     "name": "stdout",
     "output_type": "stream",
     "text": [
      "['HELLO', 'WORLD', 'PYTHON']\n"
     ]
    }
   ],
   "source": [
    "#Write a Python function convert_to_uppercase that:\n",
    "#Accepts a list of strings.\n",
    "#Uses a lambda function inside map() to convert all strings in the list to uppercase.\n",
    "#Return the list of uppercase strings.\n",
    "\n",
    "\n",
    "def convert_to_uppercase(strings):\n",
    "    return list(map(lambda x: x.upper(), strings))\n",
    "words = [\"hello\", \"world\", \"python\"]\n",
    "uppercase_words = convert_to_uppercase(words)\n",
    "print(uppercase_words)\n",
    "\n"
   ]
  },
  {
   "cell_type": "code",
   "execution_count": null,
   "metadata": {},
   "outputs": [
    {
     "name": "stdout",
     "output_type": "stream",
     "text": [
      "['banana', 'pear', 'kiwi']\n"
     ]
    }
   ],
   "source": [
    "#Write a Python function filter_even_length_words that:\n",
    "#Accepts a list of strings.\n",
    "#Uses a lambda function inside the filter() function to return only words that have an even length.\n",
    "\n",
    "def filter_even_length_words(words):\n",
    "    return list(filter(lambda word: len(word) % 2 == 0, words))\n",
    "\n",
    "words = [\"apple\", \"banana\", \"pear\", \"grape\", \"kiwi\"]\n",
    "even_length_words = filter_even_length_words(words)\n",
    "print(even_length_words)  \n"
   ]
  },
  {
   "cell_type": "code",
   "execution_count": 21,
   "metadata": {},
   "outputs": [],
   "source": [
    "#Write a function process_file_with_lambda that:\n",
    "#Takes a file name as input.\n",
    "#Reads each line from the file and uses a lambda function to convert each word in the line to uppercase.\n",
    "#Write the processed lines back to the file.\n",
    "\n",
    "file_path = \"file.txt\"\n",
    "def process_file_with_lambda(file_path):\n",
    "    with open(file_path, 'r') as file:\n",
    "        lines = file.readlines()\n",
    "    file.close()\n",
    "    \n",
    "    processed_lines = [' '.join(map(lambda word: word.upper(), line.split())) for line in lines]\n",
    "\n",
    "    \n",
    "    with open(file_path, 'w') as file:\n",
    "        file.writelines(processed_lines)\n",
    "    file.close()\n",
    "\n",
    "process_file_with_lambda(file_path)"
   ]
  }
 ],
 "metadata": {
  "kernelspec": {
   "display_name": "Python 3",
   "language": "python",
   "name": "python3"
  },
  "language_info": {
   "codemirror_mode": {
    "name": "ipython",
    "version": 3
   },
   "file_extension": ".py",
   "mimetype": "text/x-python",
   "name": "python",
   "nbconvert_exporter": "python",
   "pygments_lexer": "ipython3",
   "version": "3.12.4"
  }
 },
 "nbformat": 4,
 "nbformat_minor": 2
}

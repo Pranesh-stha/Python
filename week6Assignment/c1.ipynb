{
 "cells": [
  {
   "cell_type": "code",
   "execution_count": null,
   "metadata": {},
   "outputs": [
    {
     "name": "stdout",
     "output_type": "stream",
     "text": [
      "1\n",
      "4\n",
      "9\n",
      "16\n",
      "25\n",
      "36\n",
      "49\n",
      "64\n",
      "81\n",
      "100\n",
      " \n",
      "4\n",
      "16\n",
      "36\n",
      "64\n",
      "100\n",
      " \n"
     ]
    },
    {
     "data": {
      "text/plain": [
       "[4, 16, 36, 64, 100]"
      ]
     },
     "execution_count": 15,
     "metadata": {},
     "output_type": "execute_result"
    }
   ],
   "source": [
    "#write a function in python which takes list of numbers as a parameter and:\n",
    "# print the square of each number\n",
    "# print square of numbers only if the square number is even\n",
    "# store the even square numbers in another list\n",
    "\n",
    "def square_of_numbers(numbers):\n",
    "    for number in numbers:\n",
    "        square = number ** 2\n",
    "        print(square)\n",
    "        \n",
    "square_of_numbers([1,2,3,4,5,6,7,8,9,10])\n",
    "\n",
    "print(\" \")\n",
    "\n",
    "def even_square(numbers):\n",
    "    for number in numbers:\n",
    "        square = number ** 2\n",
    "        if square % 2 == 0:\n",
    "            print(square)\n",
    "            \n",
    "even_square([1,2,3,4,5,6,7,8,9,10])\n",
    "\n",
    "print(\" \")\n",
    "\n",
    "\n",
    "def list_of_even_square(numbers):\n",
    "    even_squares = []\n",
    "    for number in numbers:\n",
    "        square = number ** 2\n",
    "        if square % 2 == 0:\n",
    "            even_squares.append(square)\n",
    "    return even_squares\n",
    "\n",
    "list_of_even_square([1,2,3,4,5,6,7,8,9,10])\n",
    "\n"
   ]
  },
  {
   "cell_type": "code",
   "execution_count": 1,
   "metadata": {},
   "outputs": [
    {
     "name": "stdout",
     "output_type": "stream",
     "text": [
      "77.0\n",
      "84.0\n",
      "79.0\n"
     ]
    }
   ],
   "source": [
    "#Create a class called Student with attributes name, age, and grades (a list of integers). Write a method average_grade that calculates and returns the average grade of the student. Create three Student objects and print their average grades.\n",
    "class Student:\n",
    "    def __init__(self, name, age, grades):\n",
    "        self.name = name\n",
    "        self.age = age\n",
    "        self.grades = grades\n",
    "      \n",
    "    def average_grade(self):\n",
    "        return sum(self.grades) / len(self.grades)\n",
    "\n",
    "student1 = Student(\"John\", 20, [80, 90, 85, 70, 60])\n",
    "student2 = Student(\"Jane\", 21, [90, 85, 95, 80, 70])\n",
    "student3 = Student(\"Alice\", 22, [85, 90, 80, 75, 65])\n",
    "\n",
    "print(student1.average_grade())\n",
    "print(student2.average_grade())\n",
    "print(student3.average_grade())"
   ]
  },
  {
   "cell_type": "code",
   "execution_count": 2,
   "metadata": {},
   "outputs": [
    {
     "name": "stdout",
     "output_type": "stream",
     "text": [
      "The Great \n",
      "To Kill a \n",
      "1984\n"
     ]
    }
   ],
   "source": [
    "#Create a class called Book with attributes title, author. Write a method short_title that returns the first 10 characters of the book's title. Create three Book objects and print their short titles.\n",
    "class Book:\n",
    "    def __init__(self, title, author):\n",
    "        self.title = title\n",
    "        self.author = author\n",
    "        \n",
    "    def short_title(self):\n",
    "        return self.title[:10]\n",
    "\n",
    "book1 = Book(\"The Great Gatsby\", \"F. Scott Fitzgerald\")\n",
    "book2 = Book(\"To Kill a Mockingbird\", \"Harper Lee\")\n",
    "book3 = Book(\"1984\", \"George Orwell\")\n",
    "\n",
    "print(book1.short_title())\n",
    "print(book2.short_title())\n",
    "print(book3.short_title())"
   ]
  },
  {
   "cell_type": "code",
   "execution_count": 4,
   "metadata": {},
   "outputs": [
    {
     "name": "stdout",
     "output_type": "stream",
     "text": [
      "John\n",
      "Alice\n"
     ]
    }
   ],
   "source": [
    "#Create a class called StudentResult with attributes name, age, and average_grade and include a method has_passed that returns True if the student's average grade is 50 or higher, and False otherwise . Create three Student objects and print the names of the students who have passed.\n",
    "\n",
    "class StudentResult:\n",
    "    def __init__(self, name, age, average_grade):\n",
    "        self.name = name\n",
    "        self.age = age\n",
    "        self.average_grade = average_grade\n",
    "        \n",
    "    def has_passed(self):\n",
    "        return self.average_grade >= 50\n",
    "\n",
    "student1 = StudentResult(\"John\", 20, 80)\n",
    "student2 = StudentResult(\"Jane\", 21, 45)\n",
    "student3 = StudentResult(\"Alice\", 22, 60)\n",
    "\n",
    "if student1.has_passed():\n",
    "    print(student1.name)\n",
    "if student2.has_passed():\n",
    "    print(student2.name)\n",
    "if student3.has_passed():\n",
    "    print(student3.name)\n",
    "\n",
    "  "
   ]
  },
  {
   "cell_type": "code",
   "execution_count": 8,
   "metadata": {},
   "outputs": [
    {
     "name": "stdout",
     "output_type": "stream",
     "text": [
      "137\n"
     ]
    }
   ],
   "source": [
    "#Create a class called ShoppingCart with a list attribute items (each item is a dictionary with keys name and price). Write a method total_price that calculates and returns the total price of all items in the cart. Create a ShoppingCart object, add five items to it, and print the total price.\n",
    "class ShoppingCart:\n",
    "    def __init__(self):\n",
    "        self.items = []\n",
    "        \n",
    "    def total_price(self):\n",
    "        total = 0\n",
    "        for item in self.items:\n",
    "            total += item[\"price\"]\n",
    "        return total\n",
    "\n",
    "cart = ShoppingCart()\n",
    "cart.items.append({\"name\": \"apple\", \"price\": 14})\n",
    "cart.items.append({\"name\": \"banana\", \"price\": 26})\n",
    "cart.items.append({\"name\": \"orange\", \"price\": 33})\n",
    "cart.items.append({\"name\": \"mango\", \"price\": 14})\n",
    "cart.items.append({\"name\": \"grapes\", \"price\": 50})\n",
    "\n",
    "print(cart.total_price())"
   ]
  },
  {
   "cell_type": "code",
   "execution_count": 10,
   "metadata": {},
   "outputs": [
    {
     "name": "stdout",
     "output_type": "stream",
     "text": [
      "6\n"
     ]
    }
   ],
   "source": [
    "#Create a class called TextAnalyzer with a string attribute text. Write a method word_count that returns the number of words in the text.Create a TextAnalyzer object with a sample text and print the word count\n",
    "class TextAnalyzer:\n",
    "    def __init__(self, text):\n",
    "        self.text = text\n",
    "        \n",
    "    def word_count(self):\n",
    "        return len(self.text.split())\n",
    "\n",
    "analyzer = TextAnalyzer(\"This is a sample text hello\")\n",
    "print(analyzer.word_count())\n"
   ]
  },
  {
   "cell_type": "code",
   "execution_count": 12,
   "metadata": {},
   "outputs": [
    {
     "name": "stdout",
     "output_type": "stream",
     "text": [
      "Title: Song 3, Artist: Artist I\n",
      "Title: Song 4, Artist: Artist O\n",
      "Title: Song 2, Artist: Artist E\n",
      "Title: Song 1, Artist: Artist A\n",
      "Title: Song 5, Artist: Artist U\n"
     ]
    }
   ],
   "source": [
    "import random\n",
    "\n",
    "class Playlist:\n",
    "    def __init__(self):\n",
    "        self.songs = []\n",
    "\n",
    "    def add_song(self, title, artist):\n",
    "        self.songs.append({\"title\": title, \"artist\": artist})\n",
    "\n",
    "    def shuffle(self):\n",
    "        random.shuffle(self.songs)\n",
    "\n",
    "playlist = Playlist()\n",
    "\n",
    "playlist.add_song(\"Song 1\", \"Artist A\")\n",
    "playlist.add_song(\"Song 2\", \"Artist E\")\n",
    "playlist.add_song(\"Song 3\", \"Artist I\")\n",
    "playlist.add_song(\"Song 4\", \"Artist O\")\n",
    "playlist.add_song(\"Song 5\", \"Artist U\")\n",
    "\n",
    "playlist.shuffle()\n",
    "\n",
    "for song in playlist.songs:\n",
    "    print(f\"Title: {song['title']}, Artist: {song['artist']}\")"
   ]
  }
 ],
 "metadata": {
  "kernelspec": {
   "display_name": "Python 3",
   "language": "python",
   "name": "python3"
  },
  "language_info": {
   "codemirror_mode": {
    "name": "ipython",
    "version": 3
   },
   "file_extension": ".py",
   "mimetype": "text/x-python",
   "name": "python",
   "nbconvert_exporter": "python",
   "pygments_lexer": "ipython3",
   "version": "3.12.4"
  }
 },
 "nbformat": 4,
 "nbformat_minor": 2
}

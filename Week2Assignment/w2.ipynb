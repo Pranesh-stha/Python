{
 "cells": [
  {
   "cell_type": "markdown",
   "metadata": {},
   "source": [
    "#### **Question 1**\n",
    "#### **Printing list till 50 removing multiples of 5**"
   ]
  },
  {
   "cell_type": "code",
   "execution_count": 29,
   "metadata": {},
   "outputs": [
    {
     "name": "stdout",
     "output_type": "stream",
     "text": [
      "1\n",
      "2\n",
      "3\n",
      "6\n",
      "7\n",
      "8\n",
      "9\n",
      "11\n",
      "12\n",
      "13\n",
      "14\n",
      "16\n",
      "17\n",
      "44\n",
      "46\n",
      "47\n",
      "48\n",
      "49\n"
     ]
    }
   ],
   "source": [
    "list= [1,2,3,6,7,8,9,10,11,12,13,14,15,16,17,20,44,45,46,47,48,49,50,51,52,53,54,55,56,57,58,59,60]\n",
    "for i in list:\n",
    "    if i > 50:\n",
    "        break\n",
    "    if i % 5 == 0:\n",
    "        continue\n",
    "    print(i)"
   ]
  },
  {
   "cell_type": "markdown",
   "metadata": {},
   "source": [
    "#### **Question 2**\n",
    "#### **Password strength checker**"
   ]
  },
  {
   "cell_type": "code",
   "execution_count": 22,
   "metadata": {},
   "outputs": [
    {
     "name": "stdout",
     "output_type": "stream",
     "text": [
      "Password is Strong\n"
     ]
    }
   ],
   "source": [
    "\n",
    "password = input(\"Enter a password: \")\n",
    "if len(password) < 6 or password.isalpha():\n",
    "    print(\"Password is Weak\")\n",
    "elif len(password) >= 6 and password.isalnum():\n",
    "    print(\"Password is Moderate\")\n",
    "elif len(password) >= 8 and not password.isalnum():\n",
    "    print(\"Password is Strong\")\n"
   ]
  },
  {
   "cell_type": "markdown",
   "metadata": {},
   "source": [
    "#### **Question 3**\n",
    "#### **Alternate reversing**"
   ]
  },
  {
   "cell_type": "code",
   "execution_count": 26,
   "metadata": {},
   "outputs": [
    {
     "name": "stdout",
     "output_type": "stream",
     "text": [
      "Python si an gnizama programming egaugnal \n"
     ]
    }
   ],
   "source": [
    "sentence = input(\"Enter a sentence: \")\n",
    "words = sentence.split()\n",
    "reverse = \"\"\n",
    "for i in range(len(words)):\n",
    "    if i % 2 != 0:\n",
    "        reverse += words[i][::-1] + \" \"\n",
    "    else:\n",
    "        reverse += words[i] + \" \"\n",
    "print(reverse)"
   ]
  },
  {
   "cell_type": "markdown",
   "metadata": {},
   "source": [
    "#### **Question 4**\n",
    "#### **Word Counter**"
   ]
  },
  {
   "cell_type": "code",
   "execution_count": 28,
   "metadata": {},
   "outputs": [
    {
     "name": "stdout",
     "output_type": "stream",
     "text": [
      "{'apple': 2, 'banana': 3, 'orange': 1}\n"
     ]
    }
   ],
   "source": [
    "words = [\"apple\", \"banana\", \"apple\", \"orange\", \"banana\", \"banana\"]\n",
    "wordCount = {}\n",
    "for word in words:\n",
    "    if word in wordCount:\n",
    "        wordCount[word] += 1\n",
    "    else:\n",
    "        wordCount[word] = 1\n",
    "print(wordCount)"
   ]
  },
  {
   "cell_type": "markdown",
   "metadata": {},
   "source": [
    "#### **Question 5**\n",
    "#### **Dictionary**"
   ]
  },
  {
   "cell_type": "code",
   "execution_count": 27,
   "metadata": {},
   "outputs": [
    {
     "name": "stdout",
     "output_type": "stream",
     "text": [
      "Partially Available\n"
     ]
    }
   ],
   "source": [
    "books = {'nepali': 5, 'english': 6, 'social': 10, 'science': 4, 'math': 8, 'history': 7, 'geography': 3}\n",
    "\n",
    "bookName = input(\"Enter the name of the book you want: \").lower()\n",
    "\n",
    "numCopies = int(input(\"Enter the number of copies you want to buy: \"))\n",
    "\n",
    "if bookName in books:\n",
    "    if books[bookName] >= numCopies:\n",
    "        print(\"Available\")\n",
    "    else:\n",
    "        print(\"Partially Available\")\n",
    "else:\n",
    "    print(\"Unavailable\")"
   ]
  },
  {
   "cell_type": "markdown",
   "metadata": {},
   "source": [
    "#### **Question 6**\n",
    "#### **Word counter pt.2**"
   ]
  },
  {
   "cell_type": "code",
   "execution_count": null,
   "metadata": {},
   "outputs": [
    {
     "name": "stdout",
     "output_type": "stream",
     "text": [
      "{'this': 2, 'is': 2, 'a': 1, 'th': 2, 'an': 1, 'amazinf': 1, 'word': 1}\n"
     ]
    }
   ],
   "source": [
    "sentence = input(\"Enter a sentence: \")\n",
    "seperate = sentence.split()\n",
    "wordCount ={}\n",
    "for word in seperate:\n",
    "    if word in wordCount:\n",
    "        wordCount[word] += 1\n",
    "    else:\n",
    "        wordCount[word] = 1\n",
    "print(wordCount)"
   ]
  },
  {
   "cell_type": "code",
   "execution_count": null,
   "metadata": {},
   "outputs": [],
   "source": []
  }
 ],
 "metadata": {
  "kernelspec": {
   "display_name": "Python 3",
   "language": "python",
   "name": "python3"
  },
  "language_info": {
   "codemirror_mode": {
    "name": "ipython",
    "version": 3
   },
   "file_extension": ".py",
   "mimetype": "text/x-python",
   "name": "python",
   "nbconvert_exporter": "python",
   "pygments_lexer": "ipython3",
   "version": "3.12.4"
  }
 },
 "nbformat": 4,
 "nbformat_minor": 2
}
